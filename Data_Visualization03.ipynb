{
 "cells": [
  {
   "cell_type": "markdown",
   "metadata": {},
   "source": [
    "#### This tutorial introduces how to create basic visualizations of a large data set using Python. \n",
    "#### Note: You do not need to understand the Python code or be able to write code to complete this tutorial and pass the Challenge.\n",
    "#### Remember to hit Shift+Enter in all the code cells."
   ]
  },
  {
   "cell_type": "markdown",
   "metadata": {},
   "source": [
    "<div class=\"alert alert-block alert-info\">A cell like this indicates a question you need to answer for this Challenge on the U4I platform. Please answer the question <b>before</b> continuing through the notebook.</div>"
   ]
  },
  {
   "cell_type": "markdown",
   "metadata": {},
   "source": [
    "# Introduction"
   ]
  },
  {
   "cell_type": "markdown",
   "metadata": {},
   "source": [
    "The World Happiness Report is survey of global happiness. It contains articles, and rankings of happiness based on participants' ratings of their own lives. \n",
    "Happiness is based on a survey in which nationally representative samples of participants are asked to think of a ladder, with the best possible life for them being a 10, and the worst possible life being a 0. They are then asked to rate their own current lives on that 0 to 10 scale. The report correlates the results with various life factors.\n",
    "\n",
    "In this tutorial, we will try to answer some questions by creating visualizations of the data:\n",
    "- Which countries and regions of the world are happiest?\n",
    "- What factors contribute to a country's/region's happiness ranking?\n",
    "- How did happiness change from 2016 to 2019?"
   ]
  },
  {
   "cell_type": "markdown",
   "metadata": {
    "_uuid": "135bb935df95d60c07f3e85a04d3742134f97152"
   },
   "source": [
    "<b>We will work through a few different visualizations (listed below). You can follow these links to jump directly to a particular section/visualization.</b>\n",
    "* [Variables](#1)\n",
    "* [Import Libraries](#2)\n",
    "* [Load & Preview Data](#3)\n",
    "* [Bar Graph](#4)\n",
    "* [Violin Plot](#5)\n",
    "* [Box Plot](#6)\n",
    "* [Scatter Plot](#7)\n",
    "* [Pair Plot](#8) \n",
    "* [Heat Map](#9)\n",
    "* [Interactive Bubble Plot](#10)\n",
    "* [Sources](#11)"
   ]
  },
  {
   "cell_type": "markdown",
   "metadata": {
    "_uuid": "81f4986cfb12e38ad4ce50ab2044125b8a53e5d9"
   },
   "source": [
    "<a id=1></a>\n",
    "## Variables\n",
    "\n",
    "Although the original report and data sets contain more variables, we will focus on the following variables in this tutorial:\n",
    "* **Country**: Name of the country\n",
    "* **Region**: Region the country belongs to\n",
    "* **Happiness_Score**: A metric measured in 2015 by asking the sampled people the question: \"How would you rate your happiness on a scale of 0 to 10, where 10 is the happiest?\"\n",
    "* **Economy**: GDP per capita\n",
    "* **Family**: Social support\n",
    "* **Health**: Healthy life expectancy\n",
    "* **Freedom**: Freedom to make life choices\n",
    "* **Trust**: Perceptions of corruption\n",
    "* **Generosity**: Perceptions of generosity"
   ]
  },
  {
   "cell_type": "markdown",
   "metadata": {},
   "source": [
    "<div class=\"alert alert-block alert-info\">Pause! Answer Q1 on the U4I platform."
   ]
  },
  {
   "cell_type": "markdown",
   "metadata": {},
   "source": [
    "<a id=2></a>\n",
    "## Import Libraries"
   ]
  },
  {
   "cell_type": "code",
   "execution_count": null,
   "metadata": {
    "_cell_guid": "b1076dfc-b9ad-4769-8c92-a6c4dae69d19",
    "_uuid": "8f2839f25d086af736a60e9eeb907d3b93b6e0e5"
   },
   "outputs": [],
   "source": [
    "# import Pandas library and call it 'pd' for analyzing & visualizing data\n",
    "import pandas as pd\n",
    "from pandas.plotting import autocorrelation_plot\n",
    "\n",
    "# import matplotlib.plplot and call it 'plt' for plotting data\n",
    "import matplotlib.pyplot as plt\n",
    "%matplotlib inline\n",
    "\n",
    "#import numpy and call it 'np' for scientific computing\n",
    "import numpy as np\n",
    "\n",
    "#import seaborn and call it 'sns' for visualizations\n",
    "import seaborn as sns \n",
    "\n",
    "#import libraries for interactive viaulizations\n",
    "from IPython.display import HTML\n",
    "from bubbly.bubbly import bubbleplot\n",
    "import plotly.offline as py\n",
    "import plotly.graph_objs as go\n",
    "\n",
    "import warnings            \n",
    "warnings.filterwarnings(\"ignore\") "
   ]
  },
  {
   "cell_type": "markdown",
   "metadata": {
    "hideCode": true,
    "hideOutput": true
   },
   "source": [
    "<a id=3></a>\n",
    "## Load & Preview Data"
   ]
  },
  {
   "cell_type": "code",
   "execution_count": null,
   "metadata": {},
   "outputs": [],
   "source": [
    "#Load data from csv files and assign to \"data_2015\", \"data_2016\", \"data_2017\", \"data_2018\", \"data_2019\"\n",
    "data_2016=pd.read_csv(\"2016.csv\")\n",
    "data_2017=pd.read_csv(\"2017.csv\")\n",
    "data_2018=pd.read_csv(\"2018.csv\")\n",
    "data_2019=pd.read_csv(\"2019.csv\")"
   ]
  },
  {
   "cell_type": "code",
   "execution_count": null,
   "metadata": {},
   "outputs": [],
   "source": [
    "#Show the first 5 rows of data_2016\n",
    "data_2016.head()"
   ]
  },
  {
   "cell_type": "code",
   "execution_count": null,
   "metadata": {},
   "outputs": [],
   "source": [
    "#Show the first 5 rows of data_2017\n",
    "data_2017.head()"
   ]
  },
  {
   "cell_type": "code",
   "execution_count": null,
   "metadata": {},
   "outputs": [],
   "source": [
    "data_2018.head()"
   ]
  },
  {
   "cell_type": "code",
   "execution_count": null,
   "metadata": {},
   "outputs": [],
   "source": [
    "data_2019.head()"
   ]
  },
  {
   "cell_type": "markdown",
   "metadata": {},
   "source": [
    "Looking at the first few rows of data, it's still hard to make any conclusions from just looking at the numbers.\\\n",
    "This is exactly why data visualizations are so powerful. Let's get let's started!"
   ]
  },
  {
   "cell_type": "markdown",
   "metadata": {
    "hideCode": true,
    "hideOutput": true
   },
   "source": [
    "<a id=4></a>\n",
    "## Bar Graph"
   ]
  },
  {
   "cell_type": "markdown",
   "metadata": {
    "_uuid": "752275ec0fbbdc80a96c5fa572785eaad333880a",
    "hideCode": true,
    "hideOutput": true
   },
   "source": [
    "#### Let's start with an easy question: <b>What were the happiest countries in 2016?</b>"
   ]
  },
  {
   "cell_type": "code",
   "execution_count": null,
   "metadata": {},
   "outputs": [],
   "source": [
    "#Set figure size\n",
    "plt.figure(figsize=(25,10))\n",
    "\n",
    "#Create bar graph\n",
    "sns.barplot(x=data_2016['Country'], y=data_2016['Happiness_Score'], palette=\"BuPu\")\n",
    "\n",
    "#Set axes and title\n",
    "plt.xticks(rotation= 90)\n",
    "plt.xlabel('Country', size = 15)\n",
    "plt.ylabel('Happiness Score', size = 15)\n",
    "plt.title('Happiness Score by Country in 2016', size = 18)\n",
    "\n",
    "plt.show()"
   ]
  },
  {
   "cell_type": "markdown",
   "metadata": {
    "hideCode": true,
    "hideOutput": true
   },
   "source": [
    "We can see the happiest country in 2019 was Denmark, and the least happiest country was Burundi.\\\n",
    "\\\n",
    "But this graph has a lot of information, so let's try to condense it by grouping countries by region and creating a new variable \"region_happiness_ratio\" (the sum of happiness_score for all the countries in a region divided by the number of countries in the region)."
   ]
  },
  {
   "cell_type": "code",
   "execution_count": null,
   "metadata": {},
   "outputs": [],
   "source": [
    "#Create new data frame \"sorted_data_2016\" with region and region_happiness_ratio_2016\n",
    "region_lists=list(data_2016['Region'].unique())\n",
    "region_happiness_ratio_2016=[]\n",
    "for each in region_lists:\n",
    "    region=data_2016[data_2016['Region']==each]\n",
    "    region_happiness_rate_2016=sum(region.Happiness_Score)/len(region)\n",
    "    region_happiness_ratio_2016.append(region_happiness_rate_2016)\n",
    "data=pd.DataFrame({'region':region_lists,'region_happiness_ratio_2016':region_happiness_ratio_2016})\n",
    "new_index=(data['region_happiness_ratio_2016'].sort_values(ascending=False)).index.values\n",
    "sorted_data_2016 = data.reindex(new_index)\n",
    "\n",
    "#Show new data frame\n",
    "sorted_data_2016"
   ]
  },
  {
   "cell_type": "markdown",
   "metadata": {},
   "source": [
    "#### Let's look at our condensed data: <b>What were the happiest regions of the world in 2016?</b>"
   ]
  },
  {
   "cell_type": "code",
   "execution_count": null,
   "metadata": {
    "_uuid": "4f5154a9baebce556f305662dcc37a254f89a655"
   },
   "outputs": [],
   "source": [
    "#Set figure size\n",
    "plt.figure(figsize=(10,8))\n",
    "\n",
    "#Create bar graph\n",
    "sns.barplot(x=sorted_data_2016['region'], y=sorted_data_2016['region_happiness_ratio_2016'], palette=\"BuPu\")\n",
    "\n",
    "#Set axes and title\n",
    "plt.xticks(rotation= 90)\n",
    "plt.xlabel('Region', size = 15)\n",
    "plt.ylabel('Region Happiness Ratio', size = 15)\n",
    "plt.title('Happiest Regions in the World in 2016', size = 18)\n",
    "\n",
    "plt.show()"
   ]
  },
  {
   "cell_type": "markdown",
   "metadata": {},
   "source": [
    "<div class=\"alert alert-block alert-info\">Pause!\n",
    "Create another bar graph for the region happiness ratio in 2019 (use the code cell below) and answer Q2 on the U4I platform. Remember to first create a new data frame called \"sorted_data_2019\".</div>"
   ]
  },
  {
   "cell_type": "code",
   "execution_count": null,
   "metadata": {},
   "outputs": [],
   "source": [
    "# your code here"
   ]
  },
  {
   "cell_type": "markdown",
   "metadata": {
    "_uuid": "48b2748ed84214d0f900daebac07e1ba32699b85"
   },
   "source": [
    "#### Now that we know the which countries and regions are the happiest, let's learn more about our data: <b>Which factors affect happiness the most?</b>"
   ]
  },
  {
   "cell_type": "code",
   "execution_count": null,
   "metadata": {
    "_uuid": "08a3433e1d4707d52510440be5b4b78c29e2db5f"
   },
   "outputs": [],
   "source": [
    "region_lists=list(data_2016['Region'].unique())\n",
    "share_economy=[]\n",
    "share_family=[]\n",
    "share_health=[]\n",
    "share_freedom=[]\n",
    "share_trust=[]\n",
    "for each in region_lists:\n",
    "    region=data_2016[data_2016['Region']==each]\n",
    "    share_economy.append(sum(region.Economy)/len(region))\n",
    "    share_family.append(sum(region.Family)/len(region))\n",
    "    share_health.append(sum(region.Health)/len(region))\n",
    "    share_freedom.append(sum(region.Freedom)/len(region))\n",
    "    share_trust.append(sum(region.Trust)/len(region))\n",
    "\n",
    "#Create horizontal bar plot for factors affecting happiness in 2016\n",
    "f,ax = plt.subplots(figsize = (20,5))\n",
    "\n",
    "#Set colors for each variable\n",
    "sns.barplot(x=share_economy,y=region_lists,color='pink',label=\"Economy\")\n",
    "sns.barplot(x=share_family,y=region_lists,color='orange',label=\"Family\")\n",
    "sns.barplot(x=share_health,y=region_lists,color='red',label=\"Health\")\n",
    "sns.barplot(x=share_freedom,y=region_lists,color='lightgreen',label=\"Freedom\")\n",
    "sns.barplot(x=share_trust,y=region_lists,color='purple',label=\"Trust\")\n",
    "\n",
    "#Set legend\n",
    "ax.legend(loc=\"lower right\",frameon = True)\n",
    "\n",
    "#Set axes and title\n",
    "ax.set(xlabel='Percentage of Region', ylabel='Region',title = \"Factors Affecting Happiness in 2016\")\n",
    "\n",
    "plt.show()"
   ]
  },
  {
   "cell_type": "markdown",
   "metadata": {},
   "source": [
    "<a id=5></a>\n",
    "## Violin Plot\n",
    "A violin plot shows the distribution of values within the variable(s)."
   ]
  },
  {
   "cell_type": "code",
   "execution_count": null,
   "metadata": {},
   "outputs": [],
   "source": [
    "# Create new data frame with Region, Economy, Health, Family, Freedom, Trust\n",
    "dataframe2=pd.pivot_table(data_2016, index = 'Region', values=[\"Economy\", \"Health\", \"Family\", \"Freedom\", \"Trust\"])\n",
    "\n",
    "#Set figure size\n",
    "f,ax=plt.subplots(figsize=(20,8))\n",
    "\n",
    "#Set colors\n",
    "my_pal = {\"Economy\": \"pink\", \"Family\": \"orange\", \"Freedom\":\"lightgreen\", \"Health\":\"red\", \"Trust\":\"purple\"}\n",
    "\n",
    "#Create violin plot\n",
    "sns.violinplot(data=dataframe2, inner=\"points\", palette=my_pal)\n",
    "plt.xlabel('Factor', size = 15)\n",
    "plt.ylabel('Percentage of Region', size = 15)\n",
    "plt.title('Distribution of Factors Affecting Happiness in 2016', size = 18)\n",
    "\n",
    "plt.show()"
   ]
  },
  {
   "cell_type": "markdown",
   "metadata": {},
   "source": [
    "<div class=\"alert alert-block alert-info\">Pause! Create another violin plot (use the code cell below) for data_2019 and answer Q3 on the U4I platform. "
   ]
  },
  {
   "cell_type": "code",
   "execution_count": null,
   "metadata": {},
   "outputs": [],
   "source": [
    "# your code here"
   ]
  },
  {
   "cell_type": "markdown",
   "metadata": {
    "_uuid": "dee4ecfb9aeef7482280d5ab7f10b8684829ab4b"
   },
   "source": [
    "<a id=6></a>\n",
    "## Box Plot\n",
    "A box plot also displays the distribution of a data set based on 5 points: the minimum, first quartile, median, third quartile, and maximum. Box plots also show outliers in the data set.\n",
    "\n",
    "Since we already know the distribution of factors that affect happiness for every region from the violin plot above, let's look at the `Happiness_Score` across years."
   ]
  },
  {
   "cell_type": "markdown",
   "metadata": {},
   "source": [
    "#### <b>Did regional `Happiness_Score` change from 2016 to 2019?</b>"
   ]
  },
  {
   "cell_type": "code",
   "execution_count": null,
   "metadata": {
    "_uuid": "17ab204610f13b3969eb6259fca47e96ba3103b7"
   },
   "outputs": [],
   "source": [
    "#combine all 4 data sets into one \"data_concat\" and add variable \"Year\"\n",
    "data_2016['Year']=2016\n",
    "data_2017['Year']=2017\n",
    "data_2018['Year']=2018\n",
    "data_2019['Year']=2019\n",
    "data_concat=pd.concat([data_2016,data_2017,data_2018,data_2019],axis=0,sort = False)\n",
    "\n",
    "#Create box plot\n",
    "f,ax = plt.subplots(figsize =(20,10))\n",
    "sns.boxplot(x=\"Year\" , y=\"Happiness_Score\", hue=\"Region\",data=data_concat,ax=ax)\n",
    "plt.xlabel('Year', size = 15)\n",
    "plt.ylabel('Happiness_Score', size = 15)\n",
    "plt.title('Happiness Score 2016-2019', size = 18)\n",
    "\n",
    "#Format legend location\n",
    "plt.legend(bbox_to_anchor=(1, 0.4, 0.2, 0.2), loc='center')\n",
    "\n",
    "plt.show()"
   ]
  },
  {
   "cell_type": "markdown",
   "metadata": {},
   "source": [
    "<div class=\"alert alert-block alert-info\">Pause! Answer Q4 on the U4I platform."
   ]
  },
  {
   "cell_type": "markdown",
   "metadata": {
    "_uuid": "404886dd627bae74f3f693063d22d6bcef638cc5"
   },
   "source": [
    "<a id=7></a>\n",
    "## Scatter Plot"
   ]
  },
  {
   "cell_type": "markdown",
   "metadata": {},
   "source": [
    "Now that we know more about our variables, let's look at the relationships between factors."
   ]
  },
  {
   "cell_type": "markdown",
   "metadata": {},
   "source": [
    "A scatter plot can be used to visualize whether there is a correlation (relationship) between two variables (i.e., whether the increase or decrease in one varaible depends on the increase or decrease of the other variable.\\\n",
    "In the horizontal bar graph above, we learned that `Economy` is the factor that affects happiness the most. \n",
    "\n",
    "#### <b>What was the relationship between `Economy` and `Happiness_Score` in 2019?</b>"
   ]
  },
  {
   "cell_type": "code",
   "execution_count": null,
   "metadata": {},
   "outputs": [],
   "source": [
    "#Create scatter plot for economy and happiness_score for data_2019\n",
    "f,ax = plt.subplots(figsize = (15,8))\n",
    "sns.scatterplot(x=data_2019[\"Happiness_Score\"], y=data_2019[\"Economy\"])\n",
    "\n",
    "#Format title and axes\n",
    "plt.title(\"Relationship Between Economy and Happiness Score in 2019\", size=18)\n",
    "plt.xlabel('Happiness_Score', size = 15)\n",
    "plt.ylabel('Economy', size = 15)\n",
    "\n",
    "plt.show()"
   ]
  },
  {
   "cell_type": "markdown",
   "metadata": {},
   "source": [
    "We can see a clear positive relationship here. "
   ]
  },
  {
   "cell_type": "markdown",
   "metadata": {},
   "source": [
    "<div class=\"alert alert-block alert-info\">Pause! Create another scatter plot for any two variables in the data set \"data_2019\" (use the code cell below), take a screenshot, and answer Q5 on the U4I platform. "
   ]
  },
  {
   "cell_type": "code",
   "execution_count": null,
   "metadata": {},
   "outputs": [],
   "source": [
    "# your code here"
   ]
  },
  {
   "cell_type": "markdown",
   "metadata": {
    "_uuid": "67b73da25df07913b29e8f9ff6be38cfc4a1c1fb"
   },
   "source": [
    "<a id=8></a>\n",
    "## Pair Plot\n",
    "A pair plot allows us to see the distribution of single variables and the relationships between variables for all the variables in a data set.\\\n",
    "Pair plots are useful for identifying trends to follow up on in large data sets with several variables."
   ]
  },
  {
   "cell_type": "markdown",
   "metadata": {},
   "source": [
    "#### <b>What are the relationships between 4 factors: `economy`, `family`, `health`, and `freedom`?</b>"
   ]
  },
  {
   "cell_type": "code",
   "execution_count": null,
   "metadata": {},
   "outputs": [],
   "source": [
    "#drop columns from data sets to only include variables of interest\n",
    "data_2016_reduced = data_2016.drop(['Generosity', 'Trust', 'Year'], axis=1)\n",
    "data_2017_reduced = data_2017.drop(['Generosity', 'Trust', 'Year'], axis=1)\n",
    "data_2018_reduced = data_2018.drop(['Generosity', 'Trust', 'Year'], axis=1)\n",
    "data_2019_reduced = data_2019.drop(['Generosity', 'Trust', 'Year'], axis=1)"
   ]
  },
  {
   "cell_type": "code",
   "execution_count": null,
   "metadata": {
    "_uuid": "42f59b988294cb3283a2464844cae35c88cce3ee"
   },
   "outputs": [],
   "source": [
    "#Create a pair plot for data_2019_reduced\n",
    "sns.pairplot(data_2019_reduced, hue=\"Region\")\n",
    "plt.show()"
   ]
  },
  {
   "cell_type": "markdown",
   "metadata": {},
   "source": [
    "<div class=\"alert alert-block alert-info\">Pause! Answer Q6 on the U4I platform. "
   ]
  },
  {
   "cell_type": "markdown",
   "metadata": {
    "_uuid": "77a35f8da4f79818a657f2d148137d50ebeee37a"
   },
   "source": [
    "<a id=9></a>\n",
    "## Heat Map\n",
    "We can also visualize correlations between variables with a heat map.\\\n",
    "A heat map shows the magnitude of a relationship as color."
   ]
  },
  {
   "cell_type": "code",
   "execution_count": null,
   "metadata": {
    "_uuid": "6c13ff0534fec049d72daa1c37c1d03701a86064"
   },
   "outputs": [],
   "source": [
    "#Remove column Year from data frame\n",
    "del data_2019['Year']\n",
    "\n",
    "#Create heat map for data_2019_reduced\n",
    "f,ax=plt.subplots(figsize=(10,8))\n",
    "sns.heatmap(data_2019.corr(),annot=True, cmap=\"BuPu\")\n",
    "plt.show()"
   ]
  },
  {
   "cell_type": "markdown",
   "metadata": {},
   "source": [
    "In this heat map, lighter colors represent a lower correlation (a weaker relationship) and darker colors represent a higher correlation (a stronger relationship).\\\n",
    "The diagnoal represents variables correlated with themselves.\\\n",
    "Keep in mind that a correlation is simply an association between two variables, wheher it be positive or negative, and does not indicate causality."
   ]
  },
  {
   "cell_type": "markdown",
   "metadata": {},
   "source": [
    "<div class=\"alert alert-block alert-info\">Pause! Create another heat map for \"data_2016_reduced\" (use the code cell below) and answer Q7 on the U4I platform. Remember to first delete the column \"Year\" from data_2016."
   ]
  },
  {
   "cell_type": "code",
   "execution_count": null,
   "metadata": {},
   "outputs": [],
   "source": [
    "# your code here"
   ]
  },
  {
   "cell_type": "markdown",
   "metadata": {},
   "source": [
    "<a id=10></a>\n",
    "## Interactive Bubble Plot"
   ]
  },
  {
   "cell_type": "markdown",
   "metadata": {},
   "source": [
    "A bubble plot is a scatterplot with a third dimension which is represented by the size of the dots."
   ]
  },
  {
   "cell_type": "markdown",
   "metadata": {},
   "source": [
    "#### <b>What is the relationship between `Happiness_Score`, `Trust`, and `Economy`."
   ]
  },
  {
   "cell_type": "markdown",
   "metadata": {},
   "source": [
    "Once you create the interactive plot, you can explore the visualization by adding/removing regions and hovering over the bubbles."
   ]
  },
  {
   "cell_type": "code",
   "execution_count": null,
   "metadata": {},
   "outputs": [],
   "source": [
    "figure = bubbleplot(dataset = data_2019, x_column = 'Happiness_Score', y_column = 'Trust', \n",
    "    bubble_column = 'Country', size_column = 'Economy', color_column = 'Region', \n",
    "    x_title = \"Happiness Score\", y_title = \"Trust\", title = 'Happiness Score, Trust, and Economy by Region',\n",
    "    x_logscale = False, scale_bubble = 1, height = 650)\n",
    "\n",
    "py.iplot(figure, config={'scrollzoom': True})"
   ]
  },
  {
   "cell_type": "markdown",
   "metadata": {},
   "source": [
    "### Well done! You have completed this tutorial. Remember to submit the exercise on the U4I platform."
   ]
  },
  {
   "cell_type": "markdown",
   "metadata": {},
   "source": [
    "<a id=11></a>\n",
    "**<h1>Sources</h1>**"
   ]
  },
  {
   "cell_type": "markdown",
   "metadata": {},
   "source": [
    "https://www.kaggle.com/saduman/eda-and-data-visualization-with-seaborn \\\n",
    "https://www.kaggle.com/roshansharma/world-happiness-report \\\n",
    "https://www.kaggle.com/unsdsn/world-happiness \\\n",
    "https://en.wikipedia.org/wiki/World_Happiness_Report"
   ]
  },
  {
   "cell_type": "code",
   "execution_count": null,
   "metadata": {},
   "outputs": [],
   "source": []
  }
 ],
 "metadata": {
  "celltoolbar": "Hide code",
  "kernelspec": {
   "display_name": "Python 3",
   "language": "python",
   "name": "python3"
  },
  "language_info": {
   "codemirror_mode": {
    "name": "ipython",
    "version": 3
   },
   "file_extension": ".py",
   "mimetype": "text/x-python",
   "name": "python",
   "nbconvert_exporter": "python",
   "pygments_lexer": "ipython3",
   "version": "3.7.4"
  }
 },
 "nbformat": 4,
 "nbformat_minor": 4
}
