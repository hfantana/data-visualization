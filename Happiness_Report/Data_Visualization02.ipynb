{
 "cells": [
  {
   "cell_type": "markdown",
   "metadata": {},
   "source": [
    "#### This tutorial introduces how to create basic visualizations of a large data set using Python. "
   ]
  },
  {
   "cell_type": "markdown",
   "metadata": {},
   "source": [
    "#### <mark>Yellow highlights indicate a small exercise or task for you to try out.</mark>\n",
    "#### <mark> Remember to hit Shift+Enter in all the code cells. </mark>"
   ]
  },
  {
   "cell_type": "markdown",
   "metadata": {},
   "source": [
    "<div class=\"alert alert-block alert-info\">A cell like this indicates a question you need to answer for this Challenge on the U4I platform. Please answer the question before continuing through the notebook.</div>"
   ]
  },
  {
   "cell_type": "markdown",
   "metadata": {},
   "source": [
    "# Introduction"
   ]
  },
  {
   "cell_type": "markdown",
   "metadata": {},
   "source": [
    "The World Happiness Report is survey of the state of global happiness. It contains articles, and rankings of national happiness based on respondent ratings of their own lives. \n",
    "The rankings of national happiness are based on a Cantril ladder survey. Nationally representative samples of respondents are asked to think of a ladder, with the best possible life for them being a 10, and the worst possible life being a 0. They are then asked to rate their own current lives on that 0 to 10 scale. The report correlates the results with various life factors.\n",
    "\n",
    "In this tutorial, we will try to answer some questions by creating visualizations of the data:\n",
    "- What countries rank the highest in overall happiness?\n",
    "- What factors contribute to a country's happiness ranking?\n",
    "- How did country ranks change from 2015 to 2017?\n",
    "- Did any country experience a significant increase or decrease in happiness?"
   ]
  },
  {
   "cell_type": "markdown",
   "metadata": {
    "_uuid": "135bb935df95d60c07f3e85a04d3742134f97152"
   },
   "source": [
    "<b>We will work through a few different visualizations (listed below). You can follow these links to jump directly to a particular section/visualization.</b>\n",
    "* [Variables](#1)\n",
    "* [Import Libraries](#14)\n",
    "* [Load & Prepare Data](#15)\n",
    "* [Bar Graph](#2)\n",
    "* [Scatter Plot](#3)\n",
    "* [Pair Plot](#12) \n",
    "* [Heatmap](#9)\n",
    "* [Box Plot](#10)"
   ]
  },
  {
   "cell_type": "markdown",
   "metadata": {
    "_uuid": "81f4986cfb12e38ad4ce50ab2044125b8a53e5d9"
   },
   "source": [
    "<a id=1></a>\n",
    "## Variables\n",
    "<mark>Can you hypothesize which variables might contribute more or less to the happiness score of a country?</mark>\n",
    "* **Country**: Name of the country\n",
    "* **Region**: Region the country belongs to\n",
    "* **Happiness Rank**: Rank of the country based on the Happiness Score\n",
    "* **Happiness Score**: A metric measured in 2015 by asking the sampled people the question: \"How would you rate your happiness on a scale of 0 to 10, where 10 is the happiest?\"\n",
    "* **Economy**: GDP per capita\n",
    "* **Family**: Social support\n",
    "* **Health**: Healthy life expectancy\n",
    "* **Freedom**: Freedom to make life choices\n",
    "* **Trust**: Perceptions of corruption\n",
    "* **Generosity**: Perceptions of generosity\n",
    "* **Dystopia**: Each country is compared against a hypothetical nation that represents the lowest national averages for each key variable and is, along with residual error, used as a regression benchmark"
   ]
  },
  {
   "cell_type": "markdown",
   "metadata": {},
   "source": [
    "<a id=14></a>\n",
    "## Import Libraries"
   ]
  },
  {
   "cell_type": "code",
   "execution_count": null,
   "metadata": {
    "_cell_guid": "b1076dfc-b9ad-4769-8c92-a6c4dae69d19",
    "_uuid": "8f2839f25d086af736a60e9eeb907d3b93b6e0e5"
   },
   "outputs": [],
   "source": [
    "# import Pandas library and call it 'pd'\n",
    "import pandas as pd\n",
    "\n",
    "# import matplotlib.plplot and call it 'plt'\n",
    "import matplotlib.pyplot as plt\n",
    "\n",
    "#import numpy and call it 'np'\n",
    "import numpy as np\n",
    "\n",
    "#import seaborn and call it 'sns'\n",
    "import seaborn as sns \n",
    "\n",
    "from pandas.plotting import autocorrelation_plot\n",
    "\n",
    "%matplotlib inline\n",
    "plt.style.use(\"seaborn-dark\")\n",
    "\n",
    "import warnings            \n",
    "warnings.filterwarnings(\"ignore\") "
   ]
  },
  {
   "cell_type": "markdown",
   "metadata": {},
   "source": [
    "<a id=15></a>\n",
    "## Load & Prepare Data"
   ]
  },
  {
   "cell_type": "code",
   "execution_count": null,
   "metadata": {},
   "outputs": [],
   "source": [
    "#Load data from csv files and assign to \"data_2015\", \"data_2016\", \"data_2017\"\n",
    "data_2015=pd.read_csv(\"2015.csv\")\n",
    "data_2016=pd.read_csv(\"2016.csv\")\n",
    "data_2017=pd.read_csv(\"2017.csv\")"
   ]
  },
  {
   "cell_type": "code",
   "execution_count": null,
   "metadata": {
    "_cell_guid": "79c7e3d0-c299-4dcb-8224-4455121ee9b0",
    "_uuid": "d629ff2d2480ee46fbb7e2d37f6b5fab8052498a"
   },
   "outputs": [],
   "source": [
    "#Change column names so each data set has the same variable names\n",
    "data_2015.columns=[each.split()[0] if(len(each.split())>2) else each.replace(\" \",\"_\") for each in data_2015.columns]\n",
    "data_2016.columns=[each.split()[0] if(len(each.split())>2) else each.replace(\" \",\"_\") for each in data_2016.columns]\n",
    "data_2017.columns=[each.replace(\".\",\" \") for each in data_2017.columns]\n",
    "data_2017.columns=[each.split()[0] if(len(each.split())>2) else each.replace(\" \",\"_\") for each in data_2017.columns]"
   ]
  },
  {
   "cell_type": "code",
   "execution_count": null,
   "metadata": {
    "_uuid": "211df99386585c22aca871177321c0b1ebaebe43"
   },
   "outputs": [],
   "source": [
    "data_2015.head()"
   ]
  },
  {
   "cell_type": "code",
   "execution_count": null,
   "metadata": {},
   "outputs": [],
   "source": [
    "data_2016.head()"
   ]
  },
  {
   "cell_type": "code",
   "execution_count": null,
   "metadata": {},
   "outputs": [],
   "source": [
    "data_2017.head()"
   ]
  },
  {
   "cell_type": "markdown",
   "metadata": {},
   "source": [
    "<a id=2></a>\n",
    "**<h1>Bar Graph</h1>**"
   ]
  },
  {
   "cell_type": "markdown",
   "metadata": {
    "_uuid": "752275ec0fbbdc80a96c5fa572785eaad333880a"
   },
   "source": [
    "Let's start with an easy question: What are the happiest countries of the world in 2015?\\\n",
    "We can answer this question with a bar graph. "
   ]
  },
  {
   "cell_type": "code",
   "execution_count": null,
   "metadata": {},
   "outputs": [],
   "source": [
    "# Create bar graph\n",
    "plt.figure(figsize=(25,10))\n",
    "sns.barplot(x=data_2015['Country'], y=data_2015['Happiness_Score'])\n",
    "plt.xticks(rotation= 90)\n",
    "plt.xlabel('Country')\n",
    "plt.ylabel('Country Happiness Score')\n",
    "plt.title('Happiness Score for Countries in 2015')\n",
    "plt.show()"
   ]
  },
  {
   "cell_type": "markdown",
   "metadata": {},
   "source": [
    "This graph has a lot of information, so let's try to condense it by grouping countries by region and creating a new variable \"region_happiness_ratio\" (the sum of happiness_score for all the countries in a region divided by the number of countries in the region)."
   ]
  },
  {
   "cell_type": "code",
   "execution_count": null,
   "metadata": {},
   "outputs": [],
   "source": [
    "#Create data frame \"sorted_data_2015\" with region and region_happiness_ratio\n",
    "region_lists=list(data_2015['Region'].unique())\n",
    "region_happiness_ratio=[]\n",
    "for each in region_lists:\n",
    "    region=data_2015[data_2015['Region']==each]\n",
    "    region_happiness_rate=sum(region.Happiness_Score)/len(region)\n",
    "    region_happiness_ratio.append(region_happiness_rate)\n",
    "    \n",
    "data=pd.DataFrame({'region':region_lists,'region_happiness_ratio':region_happiness_ratio})\n",
    "new_index=(data['region_happiness_ratio'].sort_values(ascending=False)).index.values\n",
    "sorted_data_2015 = data.reindex(new_index)\n",
    "\n",
    "#Show new data frame\n",
    "sorted_data_2015"
   ]
  },
  {
   "cell_type": "code",
   "execution_count": null,
   "metadata": {
    "_uuid": "4f5154a9baebce556f305662dcc37a254f89a655"
   },
   "outputs": [],
   "source": [
    "#Create a bar graph for region happiness ratio in 2015\n",
    "plt.figure(figsize=(10,10))\n",
    "sns.barplot(x=sorted_data_2015['region'], y=sorted_data_2015['region_happiness_ratio'],palette=sns.cubehelix_palette(len(sorted_data['region'])))\n",
    "plt.xticks(rotation= 90)\n",
    "plt.xlabel('Region')\n",
    "plt.ylabel('Region Happiness Ratio')\n",
    "plt.title('Region Happiness Ratio in 2015')\n",
    "plt.show()"
   ]
  },
  {
   "cell_type": "markdown",
   "metadata": {},
   "source": [
    "<div class=\"alert alert-block alert-info\">Create another bar graph for the region happiness ratio in 2016 (use the code cell below) and answer Q1 on the U4I platform. Remember to first create a new data frame called \"sorted_data_2016\".</div>"
   ]
  },
  {
   "cell_type": "code",
   "execution_count": null,
   "metadata": {},
   "outputs": [],
   "source": [
    "# your code here"
   ]
  },
  {
   "cell_type": "markdown",
   "metadata": {
    "_uuid": "48b2748ed84214d0f900daebac07e1ba32699b85"
   },
   "source": [
    "Now that we know the which countries and regions are the happiest, let's find out which factors affect happiness."
   ]
  },
  {
   "cell_type": "code",
   "execution_count": null,
   "metadata": {
    "_uuid": "08a3433e1d4707d52510440be5b4b78c29e2db5f"
   },
   "outputs": [],
   "source": [
    "#Create horizontal bar plot for factors affecting happiness in 2015\n",
    "region_lists=list(data_2015['Region'].unique())\n",
    "share_economy=[]\n",
    "share_family=[]\n",
    "share_health=[]\n",
    "share_freedom=[]\n",
    "share_trust=[]\n",
    "for each in region_lists:\n",
    "    region=data_2015[data_2015['Region']==each]\n",
    "    share_economy.append(sum(region.Economy)/len(region))\n",
    "    share_family.append(sum(region.Family)/len(region))\n",
    "    share_health.append(sum(region.Health)/len(region))\n",
    "    share_freedom.append(sum(region.Freedom)/len(region))\n",
    "    share_trust.append(sum(region.Trust)/len(region))\n",
    "#Visualization\n",
    "f,ax = plt.subplots(figsize = (15,5))\n",
    "sns.barplot(x=share_economy,y=region_lists,color='g',label=\"Economy\")\n",
    "sns.barplot(x=share_family,y=region_lists,color='b',label=\"Family\")\n",
    "sns.barplot(x=share_health,y=region_lists,color='c',label=\"Health\")\n",
    "sns.barplot(x=share_freedom,y=region_lists,color='y',label=\"Freedom\")\n",
    "sns.barplot(x=share_trust,y=region_lists,color='r',label=\"Trust\")\n",
    "ax.legend(loc=\"lower right\",frameon = True)\n",
    "ax.set(xlabel='Percentage of Region', ylabel='Region',title = \"Factors Affecting Happiness in 2015\")\n",
    "plt.show()"
   ]
  },
  {
   "cell_type": "markdown",
   "metadata": {
    "_uuid": "404886dd627bae74f3f693063d22d6bcef638cc5"
   },
   "source": [
    "<a id=3></a>\n",
    "**<h1>Scatter Plot</h1>**"
   ]
  },
  {
   "cell_type": "markdown",
   "metadata": {},
   "source": [
    "A scatter plot can be used to visualize whether there is a correlation (relationship) between two variables (i.e., whether the increase or decrease in one varaible depends on the increase or decrease of the other variable.\\\n",
    "What is the correlation between economy and happiness_score for countires in 2015?"
   ]
  },
  {
   "cell_type": "code",
   "execution_count": null,
   "metadata": {},
   "outputs": [],
   "source": [
    "#Create scatter plot for varaibles economy and happiness_score for data_2015\n",
    "sns.scatterplot(x=data_2015[\"Happiness_Score\"], y=data_2015[\"Economy\"])\n",
    "plt.title(\"Relationship Between Economy and Happiness Score in 2015\")\n",
    "plt.show()"
   ]
  },
  {
   "cell_type": "markdown",
   "metadata": {},
   "source": [
    "<div class=\"alert alert-block alert-info\">Create another scatter plot for any two variables in the data set \"data_2017\" (use the code cell below) and answer Q2 on the U4I platform. "
   ]
  },
  {
   "cell_type": "code",
   "execution_count": null,
   "metadata": {},
   "outputs": [],
   "source": [
    "# your code here"
   ]
  },
  {
   "cell_type": "markdown",
   "metadata": {
    "_uuid": "67b73da25df07913b29e8f9ff6be38cfc4a1c1fb"
   },
   "source": [
    "<a id=12></a>\n",
    "**<h1>Pair Plot</h1>**\n",
    "A pair plot allows us to see the distribution of single variables and the relationships between variables for all the variables in a data set. Pair plots are useful for identifying trends to follow up on in large data sets with several variables."
   ]
  },
  {
   "cell_type": "code",
   "execution_count": null,
   "metadata": {
    "_uuid": "42f59b988294cb3283a2464844cae35c88cce3ee"
   },
   "outputs": [],
   "source": [
    "#Drop column \"Happiness_Rank\"\n",
    "data_2015_pp = data_2015.drop('Happiness_Rank', 1)\n",
    "\n",
    "#Create a pair plot for data_2015_pp\n",
    "sns.pairplot(data_2015_pp)\n",
    "plt.show()"
   ]
  },
  {
   "cell_type": "code",
   "execution_count": null,
   "metadata": {},
   "outputs": [],
   "source": [
    "sns.pairplot(data_2015_pp, hue=\"Region\")\n",
    "plt.show()"
   ]
  },
  {
   "cell_type": "markdown",
   "metadata": {
    "_uuid": "77a35f8da4f79818a657f2d148137d50ebeee37a"
   },
   "source": [
    "<a id=9></a>\n",
    "**<h1>Heatmap</h1>**\n",
    "We can also visualize correlations between variables with a heat map. "
   ]
  },
  {
   "cell_type": "code",
   "execution_count": null,
   "metadata": {
    "_uuid": "6c13ff0534fec049d72daa1c37c1d03701a86064"
   },
   "outputs": [],
   "source": [
    "#Create heatmap for data_2015\n",
    "f,ax=plt.subplots(figsize=(10,8))\n",
    "sns.heatmap(data_2015.corr(),annot=True)\n",
    "plt.show()"
   ]
  },
  {
   "cell_type": "markdown",
   "metadata": {},
   "source": [
    "<div class=\"alert alert-block alert-info\">Create another heatmap for \"data_2016\" (use the code cell below) and answer Q3 on the U4I platform."
   ]
  },
  {
   "cell_type": "code",
   "execution_count": null,
   "metadata": {},
   "outputs": [],
   "source": [
    "#your code here"
   ]
  },
  {
   "cell_type": "markdown",
   "metadata": {
    "_uuid": "dee4ecfb9aeef7482280d5ab7f10b8684829ab4b"
   },
   "source": [
    "<a id=10></a>\n",
    "**<h1>Box Plot</h1>**\n",
    "A box plot displays the distribution of a data set based on 5 points: the minimum, first quartile, median, third quartile, and maximum. Box plots also show outliers in the data set.\n"
   ]
  },
  {
   "cell_type": "code",
   "execution_count": null,
   "metadata": {
    "_uuid": "17ab204610f13b3969eb6259fca47e96ba3103b7"
   },
   "outputs": [],
   "source": [
    "#Create box plot\n",
    "f,ax = plt.subplots(figsize =(25,10))\n",
    "sns.boxplot(x=\"Year\" , y=\"Happiness_Score\", hue=\"Region\",data=data_concat,palette=\"PRGn\",ax=ax)\n",
    "plt.show()"
   ]
  },
  {
   "cell_type": "markdown",
   "metadata": {},
   "source": [
    "<div class=\"alert alert-block alert-info\">Answer Q4 on the U4I platform. (Why is there no visualization for 2017? Hint: Look back at the variable names (column names) in each data set.)"
   ]
  },
  {
   "cell_type": "markdown",
   "metadata": {},
   "source": [
    "Sources:\n",
    "https://www.kaggle.com/saduman/eda-and-data-visualization-with-seaborn/notebook\n",
    "https://en.wikipedia.org/wiki/World_Happiness_Report"
   ]
  }
 ],
 "metadata": {
  "kernelspec": {
   "display_name": "Python 3",
   "language": "python",
   "name": "python3"
  },
  "language_info": {
   "codemirror_mode": {
    "name": "ipython",
    "version": 3
   },
   "file_extension": ".py",
   "mimetype": "text/x-python",
   "name": "python",
   "nbconvert_exporter": "python",
   "pygments_lexer": "ipython3",
   "version": "3.7.4"
  }
 },
 "nbformat": 4,
 "nbformat_minor": 4
}
