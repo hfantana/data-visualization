{
 "cells": [
  {
   "cell_type": "markdown",
   "metadata": {},
   "source": [
    "#### This is a tutorial for data visualization that introduces how to create basic visualizations using Python, as well as some interactive visualizations."
   ]
  },
  {
   "cell_type": "markdown",
   "metadata": {},
   "source": [
    "#### <mark>Yellow highlights indicate a small exercise or task for you to try out.</mark>\n",
    "#### <mark> Remember to hit Shift+Enter in all the code cells. </mark>"
   ]
  },
  {
   "cell_type": "markdown",
   "metadata": {},
   "source": [
    "<div class=\"alert alert-block alert-info\">A cell like this indicates a question you need to answer for this Challenge on the U4I platform.</div>"
   ]
  },
  {
   "cell_type": "markdown",
   "metadata": {},
   "source": [
    "Before we work with data, we need to import some Python libraries.\\\n",
    "`Pandas` is a commonly used library for analyzing data.\\\n",
    "`Matplotlib` is a plotting library for visualizing data.\\\n",
    "`NumPy` is a library for scientific computing.\\\n",
    "`Seaborn` is a library for statistical data visualization."
   ]
  },
  {
   "cell_type": "code",
   "execution_count": null,
   "metadata": {},
   "outputs": [],
   "source": [
    "# import Pandas library and call it 'pd'\n",
    "import pandas as pd\n",
    "\n",
    "# import matplotlib.plplot and call it 'plt'\n",
    "import matplotlib.pyplot as plt\n",
    "\n",
    "#import numpy and call it 'np'\n",
    "import numpy as np\n",
    "\n",
    "#import seaborn and call it 'sns'\n",
    "import seaborn as sns \n",
    "\n",
    "%matplotlib inline\n",
    "plt.style.use(\"seaborn-dark\")"
   ]
  },
  {
   "cell_type": "markdown",
   "metadata": {},
   "source": [
    "As you will see below, we will \"call upon\" these libraries in commands by referring to these names."
   ]
  },
  {
   "cell_type": "markdown",
   "metadata": {},
   "source": [
    "### Import Data Set"
   ]
  },
  {
   "cell_type": "markdown",
   "metadata": {},
   "source": [
    "We're going to start with some data that show the number of searches for machine learning related terms on a search engine from 2004 to 2020. "
   ]
  },
  {
   "cell_type": "markdown",
   "metadata": {},
   "source": [
    "One simple way of visualizing data is to simply put it into a chart. "
   ]
  },
  {
   "cell_type": "code",
   "execution_count": null,
   "metadata": {},
   "outputs": [],
   "source": [
    "# import data & view first 10 rows\n",
    "temporal_data = pd.read_csv('temporal.csv')\n",
    "temporal_data.head(10) "
   ]
  },
  {
   "cell_type": "markdown",
   "metadata": {},
   "source": [
    "Notice the \"categorical\" heading. In this data set, all the values are arbitrarily grouped into category 1 or 0 for the purposes of demonstrating how to visualise a large data set with continuous and cateogorical vairables. "
   ]
  },
  {
   "cell_type": "code",
   "execution_count": null,
   "metadata": {},
   "outputs": [],
   "source": [
    "#Change Mes colums to datetime format so years are grouped together on the x axis\n",
    "temporal_data['Mes'] = pd.to_datetime(temporal_data['Mes'])"
   ]
  },
  {
   "cell_type": "markdown",
   "metadata": {},
   "source": [
    "### Visualize Data"
   ]
  },
  {
   "cell_type": "markdown",
   "metadata": {},
   "source": [
    "#### Line Graphs"
   ]
  },
  {
   "cell_type": "markdown",
   "metadata": {},
   "source": [
    "Now let's create a simple visualization with our data set: the number of searches from 2004-2020 for \"data science\"."
   ]
  },
  {
   "cell_type": "code",
   "execution_count": null,
   "metadata": {},
   "outputs": [],
   "source": [
    "plt.plot(temporal_data['Mes'], temporal_data['data science'])\n",
    "plt.xlabel('Year')\n",
    "plt.ylabel('Number of Searches')\n",
    "plt.title('Searches for \"data science\"')\n",
    "plt.show()"
   ]
  },
  {
   "cell_type": "markdown",
   "metadata": {},
   "source": [
    "Now let's see the searches for all 3 terms in one graph."
   ]
  },
  {
   "cell_type": "code",
   "execution_count": null,
   "metadata": {},
   "outputs": [],
   "source": [
    "plt.plot(temporal_data['Mes'], temporal_data['data science'], label='data science')\n",
    "plt.plot(temporal_data['Mes'], temporal_data['machine learning'], label='machine learning')\n",
    "plt.plot(temporal_data['Mes'], temporal_data['deep learning'], label='deep learning')\n",
    "plt.xlabel('Date', )\n",
    "plt.ylabel('Number of Searches')\n",
    "plt.title('Searches for AI Terms by Date')\n",
    "plt.legend()\n",
    "plt.show()"
   ]
  },
  {
   "cell_type": "markdown",
   "metadata": {},
   "source": [
    "#### Scatter plots"
   ]
  },
  {
   "cell_type": "code",
   "execution_count": null,
   "metadata": {},
   "outputs": [],
   "source": [
    "plt.scatter(temporal_data['data science'], temporal_data['machine learning'])\n",
    "plt.xlabel('data science')\n",
    "plt.ylabel('machine learning')\n",
    "plt.title('Relationship Between \"machine learning\" and \"data science\" Searches')\n",
    "plt.show()"
   ]
  },
  {
   "cell_type": "markdown",
   "metadata": {},
   "source": [
    "<mark>Create two more scatter plots: one for Deep learning and Data science, and another for Deep learning and Machine learning.</mark>"
   ]
  },
  {
   "cell_type": "code",
   "execution_count": null,
   "metadata": {},
   "outputs": [],
   "source": [
    "# your code here"
   ]
  },
  {
   "cell_type": "code",
   "execution_count": null,
   "metadata": {},
   "outputs": [],
   "source": [
    "# your code here"
   ]
  },
  {
   "cell_type": "markdown",
   "metadata": {},
   "source": [
    "#### Bar charts"
   ]
  },
  {
   "cell_type": "code",
   "execution_count": null,
   "metadata": {},
   "outputs": [],
   "source": [
    "plt.bar(temporal_data['Mes'], temporal_data['machine learning'], width=10)\n",
    "plt.xlabel('Date')\n",
    "plt.ylabel('Number of searches')\n",
    "plt.title('Searches for \"machine learning\"')\n",
    "plt.show()"
   ]
  },
  {
   "cell_type": "markdown",
   "metadata": {},
   "source": [
    "<mark>Create two more bar charts: one for Deep learning, and another for Data science.</mark>"
   ]
  },
  {
   "cell_type": "code",
   "execution_count": null,
   "metadata": {},
   "outputs": [],
   "source": [
    "# your code here"
   ]
  },
  {
   "cell_type": "code",
   "execution_count": null,
   "metadata": {},
   "outputs": [],
   "source": [
    "# your code here"
   ]
  },
  {
   "cell_type": "markdown",
   "metadata": {},
   "source": [
    "#### Pairplot"
   ]
  },
  {
   "cell_type": "code",
   "execution_count": null,
   "metadata": {},
   "outputs": [],
   "source": [
    "pp = sns.pairplot(temporal_data)"
   ]
  },
  {
   "cell_type": "code",
   "execution_count": null,
   "metadata": {},
   "outputs": [],
   "source": [
    "pp = sns.pairplot(temporal_data, hue='categorical')"
   ]
  },
  {
   "cell_type": "markdown",
   "metadata": {},
   "source": [
    "#### Jointplot"
   ]
  },
  {
   "cell_type": "code",
   "execution_count": null,
   "metadata": {},
   "outputs": [],
   "source": [
    "sns.jointplot(x='data science', y='machine learning', data=temporal_data)\n",
    "plt.show()"
   ]
  },
  {
   "cell_type": "markdown",
   "metadata": {},
   "source": [
    "#### Heatmap"
   ]
  },
  {
   "cell_type": "code",
   "execution_count": null,
   "metadata": {},
   "outputs": [],
   "source": [
    "plt.figure(figsize=(9, 8))\n",
    "sns.heatmap(temporal_data[['data science', 'machine learning', 'deep learning',]])"
   ]
  },
  {
   "cell_type": "markdown",
   "metadata": {},
   "source": [
    "## The Titanic Data Set"
   ]
  },
  {
   "cell_type": "markdown",
   "metadata": {},
   "source": [
    "#### The Titanic data set is known for the Titanic ML competition on Kaggle. In this Jupyter notebook, we simply want to explore the data set and gain some insights into what the data means with data visualizations. The original data set comes in two parts (a training set and a test set)  but for the porposes of visualization, we will only work with the training set. "
   ]
  },
  {
   "cell_type": "code",
   "execution_count": null,
   "metadata": {},
   "outputs": [],
   "source": [
    "# Import training data set and call it \"train_data\"\n",
    "train_data = pd.read_csv(\"train.csv\")"
   ]
  },
  {
   "cell_type": "markdown",
   "metadata": {},
   "source": [
    "These are the variables in our data set:\\\n",
    "PassengerId: Unique ID of the passenger\\\n",
    "Survived: Survived (1) or died (0)\\\n",
    "Pclass: Passenger's class (1st, 2nd, or 3rd)\\\n",
    "Name: Passenger's name\\\n",
    "Sex: Passenger's sex\\\n",
    "Age: Passenger's age\\\n",
    "SibSp: Number of siblings/spouses aboard the Titanic\\\n",
    "Parch: Number of parents/children aboard the Titanic\\\n",
    "Ticket: Ticket number\\\n",
    "Fare: Fare paid for ticket\\\n",
    "Cabin: Cabin number\\\n",
    "Embarked: Where the passenger got on the ship (C - Cherbourg, S - Southampton, Q = Queenstown)"
   ]
  },
  {
   "cell_type": "code",
   "execution_count": null,
   "metadata": {},
   "outputs": [],
   "source": [
    "# Show first 5 rows of data set\n",
    "train_data.head()"
   ]
  },
  {
   "cell_type": "code",
   "execution_count": null,
   "metadata": {},
   "outputs": [],
   "source": [
    "# Show descriptive statistics\n",
    "train_data.describe()"
   ]
  },
  {
   "cell_type": "code",
   "execution_count": null,
   "metadata": {},
   "outputs": [],
   "source": [
    "# Show missing values in data set\n",
    "column_names = train_data.columns\n",
    "for column in column_names:\n",
    "    print(column + ' - ' + str(train_data[column].isnull().sum()))"
   ]
  },
  {
   "cell_type": "code",
   "execution_count": null,
   "metadata": {},
   "outputs": [],
   "source": [
    "# Remove 'Ticket', and 'PassengerId' as they don't contribute to 'Survival'\n",
    "# Remove 'Cabin' due to many missing valures'\n",
    "train_data = train_data.drop(columns=['Ticket','PassengerId','Cabin'])"
   ]
  },
  {
   "cell_type": "code",
   "execution_count": null,
   "metadata": {},
   "outputs": [],
   "source": [
    "# Check first 5 rows of data to make sure variables are removed\n",
    "train_data.head()"
   ]
  },
  {
   "cell_type": "markdown",
   "metadata": {},
   "source": [
    "#### Heatmaps"
   ]
  },
  {
   "cell_type": "code",
   "execution_count": null,
   "metadata": {},
   "outputs": [],
   "source": [
    "plt.figure(figsize=(9, 8))\n",
    "sns.heatmap(data = corr_matrix,cmap='bwr', annot=True, linewidths=0.2)"
   ]
  },
  {
   "cell_type": "code",
   "execution_count": null,
   "metadata": {},
   "outputs": [],
   "source": [
    "# Show passengers by sex\n",
    "sex_graph = sns.catplot('Sex', data=train_data, kind='count')"
   ]
  },
  {
   "cell_type": "code",
   "execution_count": null,
   "metadata": {},
   "outputs": [],
   "source": [
    "# Now let separate the sexes by classes by using the 'hue' parameter\n",
    "class_graph = sns.catplot('Pclass', data=train_data, hue='Sex', kind='count')"
   ]
  },
  {
   "cell_type": "markdown",
   "metadata": {},
   "source": [
    "It seems there were more males in 3rd class than in 1st or 2nd. But how many children were there?"
   ]
  },
  {
   "cell_type": "code",
   "execution_count": null,
   "metadata": {},
   "outputs": [],
   "source": [
    "# Create a new column 'Person' in which every person under 16 is child.\n",
    "\n",
    "train_data['Person'] = train_data.Sex\n",
    "train_data.loc[train_data['Age'] < 16, 'Person'] = 'child'"
   ]
  },
  {
   "cell_type": "code",
   "execution_count": null,
   "metadata": {},
   "outputs": [],
   "source": [
    "children_graph = sns.catplot('Pclass', data=train_data, hue='Person', kind='count')"
   ]
  },
  {
   "cell_type": "markdown",
   "metadata": {},
   "source": [
    "Now we can see that most of the children onboard the Titanic were in 3rd class."
   ]
  },
  {
   "cell_type": "markdown",
   "metadata": {},
   "source": [
    "Another way to see understand the age of the passengers onboard the Titanic is use a histogram."
   ]
  },
  {
   "cell_type": "code",
   "execution_count": null,
   "metadata": {},
   "outputs": [],
   "source": [
    "age_hist = train_data.Age.hist(bins=80)"
   ]
  },
  {
   "cell_type": "code",
   "execution_count": null,
   "metadata": {},
   "outputs": [],
   "source": []
  }
 ],
 "metadata": {
  "kernelspec": {
   "display_name": "Python 3",
   "language": "python",
   "name": "python3"
  },
  "language_info": {
   "codemirror_mode": {
    "name": "ipython",
    "version": 3
   },
   "file_extension": ".py",
   "mimetype": "text/x-python",
   "name": "python",
   "nbconvert_exporter": "python",
   "pygments_lexer": "ipython3",
   "version": "3.7.4"
  }
 },
 "nbformat": 4,
 "nbformat_minor": 4
}
